{
 "cells": [
  {
   "cell_type": "code",
   "execution_count": 4,
   "id": "ff94161f",
   "metadata": {},
   "outputs": [
    {
     "name": "stdout",
     "output_type": "stream",
     "text": [
      "Requirement already satisfied: pyspark==3.4.1 in c:\\users\\admin\\appdata\\local\\programs\\python\\python310\\lib\\site-packages (3.4.1)\n",
      "Requirement already satisfied: py4j==0.10.9.7 in c:\\users\\admin\\appdata\\local\\programs\\python\\python310\\lib\\site-packages (from pyspark==3.4.1) (0.10.9.7)\n",
      "Note: you may need to restart the kernel to use updated packages.\n"
     ]
    }
   ],
   "source": [
    "pip install pyspark==3.4.1"
   ]
  },
  {
   "cell_type": "code",
   "execution_count": 8,
   "id": "79d53562",
   "metadata": {},
   "outputs": [],
   "source": [
    "from pyspark.sql import SparkSession\n",
    "spark = SparkSession.builder \\\n",
    "    .appName(\"Example\") \\\n",
    "    .master(\"local[*]\") \\\n",
    "    .getOrCreate()\n",
    "\n"
   ]
  },
  {
   "cell_type": "code",
   "execution_count": 9,
   "id": "542b727e",
   "metadata": {},
   "outputs": [],
   "source": [
    "orders_rdd = spark.sparkContext.textFile(\"C:/Users/admin/Desktop/spark-rdd/orders_sh.csv\")"
   ]
  },
  {
   "cell_type": "code",
   "execution_count": 10,
   "id": "a8bcefb7",
   "metadata": {},
   "outputs": [
    {
     "data": {
      "text/plain": [
       "['1,2013-07-25 00:00:00.0,11599,CLOSED',\n",
       " '2,2013-07-25 00:00:00.0,256,PENDING_PAYMENT',\n",
       " '3,2013-07-25 00:00:00.0,12111,COMPLETE',\n",
       " '4,2013-07-25 00:00:00.0,8827,CLOSED',\n",
       " '5,2013-07-25 00:00:00.0,11318,COMPLETE']"
      ]
     },
     "execution_count": 10,
     "metadata": {},
     "output_type": "execute_result"
    }
   ],
   "source": [
    "orders_rdd.take(5)"
   ]
  },
  {
   "cell_type": "code",
   "execution_count": 8,
   "id": "170d4f72",
   "metadata": {},
   "outputs": [
    {
     "data": {
      "text/plain": [
       "[('CLOSED', 1),\n",
       " ('PENDING_PAYMENT', 1),\n",
       " ('COMPLETE', 1),\n",
       " ('CLOSED', 1),\n",
       " ('COMPLETE', 1)]"
      ]
     },
     "execution_count": 8,
     "metadata": {},
     "output_type": "execute_result"
    }
   ],
   "source": [
    "rdd1 = orders_rdd.map(lambda x : (x.split(\",\")[3], 1))\n",
    "rdd1.take(5)"
   ]
  },
  {
   "cell_type": "code",
   "execution_count": 10,
   "id": "20cf0bf3",
   "metadata": {},
   "outputs": [
    {
     "data": {
      "text/plain": [
       "[('CLOSED', 7556),\n",
       " ('CANCELED', 1428),\n",
       " ('PENDING_PAYMENT', 15030),\n",
       " ('COMPLETE', 22899),\n",
       " ('PROCESSING', 8275),\n",
       " ('PAYMENT_REVIEW', 729),\n",
       " ('PENDING', 7610),\n",
       " ('ON_HOLD', 3798),\n",
       " ('SUSPECTED_FRAUD', 1558)]"
      ]
     },
     "execution_count": 10,
     "metadata": {},
     "output_type": "execute_result"
    }
   ],
   "source": [
    "rdd2 = rdd1.reduceByKey(lambda x, y: x + y)\n",
    "rdd2.collect()"
   ]
  },
  {
   "cell_type": "markdown",
   "id": "53b30abe",
   "metadata": {},
   "source": [
    "# Top 10 khách hàng có lượng orders nhiều nhất?"
   ]
  },
  {
   "cell_type": "code",
   "execution_count": 19,
   "id": "ebf7414c",
   "metadata": {},
   "outputs": [
    {
     "data": {
      "text/plain": [
       "[('5897', 16),\n",
       " ('6316', 16),\n",
       " ('12431', 16),\n",
       " ('569', 16),\n",
       " ('4320', 15),\n",
       " ('221', 15),\n",
       " ('5624', 15),\n",
       " ('5283', 15),\n",
       " ('12284', 15),\n",
       " ('5654', 15)]"
      ]
     },
     "execution_count": 19,
     "metadata": {},
     "output_type": "execute_result"
    }
   ],
   "source": [
    "rdd1 = orders_rdd.map(lambda x: (x.split(\",\")[2], 1))\n",
    "rdd2 = rdd1.reduceByKey(lambda x, y: x + y)\n",
    "rdd3 = rdd2.sortBy(lambda x : x[1], False)\n",
    "rdd3.take(10)"
   ]
  },
  {
   "cell_type": "markdown",
   "id": "fdbcd31f",
   "metadata": {},
   "source": [
    "# Tổng số lương khách hàng hiện tài là bao nhiêu?"
   ]
  },
  {
   "cell_type": "code",
   "execution_count": 23,
   "id": "ca1ca6a8",
   "metadata": {},
   "outputs": [
    {
     "data": {
      "text/plain": [
       "12405"
      ]
     },
     "execution_count": 23,
     "metadata": {},
     "output_type": "execute_result"
    }
   ],
   "source": [
    "rdd1 = orders_rdd.map(lambda x : (x.split(\",\")[2], 1))\n",
    "rdd2 = rdd1.reduceByKey(lambda x, y: x + y)\n",
    "total_customers = rdd2.count()\n",
    "total_customers"
   ]
  },
  {
   "cell_type": "code",
   "execution_count": 25,
   "id": "c4b4e7a7",
   "metadata": {},
   "outputs": [
    {
     "data": {
      "text/plain": [
       "12405"
      ]
     },
     "execution_count": 25,
     "metadata": {},
     "output_type": "execute_result"
    }
   ],
   "source": [
    "rdd1 = orders_rdd.map(lambda x : (x.split(\",\")[2], 1))\n",
    "total_customers = rdd1.distinct().count()\n",
    "total_customers"
   ]
  },
  {
   "cell_type": "markdown",
   "id": "f568214d",
   "metadata": {},
   "source": [
    "# Khách hàng nào có số lượng orders \"Closed\" nhiều nhất?"
   ]
  },
  {
   "cell_type": "code",
   "execution_count": 28,
   "id": "f6c9f95e",
   "metadata": {},
   "outputs": [
    {
     "data": {
      "text/plain": [
       "['1,2013-07-25 00:00:00.0,11599,CLOSED',\n",
       " '4,2013-07-25 00:00:00.0,8827,CLOSED',\n",
       " '12,2013-07-25 00:00:00.0,1837,CLOSED',\n",
       " '18,2013-07-25 00:00:00.0,1205,CLOSED',\n",
       " '24,2013-07-25 00:00:00.0,11441,CLOSED']"
      ]
     },
     "execution_count": 28,
     "metadata": {},
     "output_type": "execute_result"
    }
   ],
   "source": [
    "rdd1 = orders_rdd.filter(lambda x : x.split(\",\")[3] == \"CLOSED\")\n",
    "rdd1.take(5)"
   ]
  },
  {
   "cell_type": "code",
   "execution_count": 32,
   "id": "0eadfb6d",
   "metadata": {},
   "outputs": [
    {
     "data": {
      "text/plain": [
       "[('11599', 1), ('8827', 1), ('1837', 1), ('1205', 1), ('11441', 1)]"
      ]
     },
     "execution_count": 32,
     "metadata": {},
     "output_type": "execute_result"
    }
   ],
   "source": [
    "rdd2 = rdd1.map(lambda x: (x.split(\",\")[2], 1))\n",
    "rdd2.take(5)\n"
   ]
  },
  {
   "cell_type": "code",
   "execution_count": 31,
   "id": "be3f5243",
   "metadata": {},
   "outputs": [
    {
     "data": {
      "text/plain": [
       "[('5863', 1), ('12271', 2), ('7073', 1), ('3065', 2), ('5116', 2)]"
      ]
     },
     "execution_count": 31,
     "metadata": {},
     "output_type": "execute_result"
    }
   ],
   "source": [
    "rdd3 = rdd2.reduceByKey(lambda x, y: x + y)\n",
    "rdd3.take(5)"
   ]
  },
  {
   "cell_type": "code",
   "execution_count": 33,
   "id": "cc3f941f",
   "metadata": {},
   "outputs": [
    {
     "data": {
      "text/plain": [
       "[('1833', 6)]"
      ]
     },
     "execution_count": 33,
     "metadata": {},
     "output_type": "execute_result"
    }
   ],
   "source": [
    "rdd4 = rdd3.sortBy(lambda x: x[1], False)\n",
    "rdd4.take(1)"
   ]
  }
 ],
 "metadata": {
  "kernelspec": {
   "display_name": "Python 3",
   "language": "python",
   "name": "python3"
  },
  "language_info": {
   "codemirror_mode": {
    "name": "ipython",
    "version": 3
   },
   "file_extension": ".py",
   "mimetype": "text/x-python",
   "name": "python",
   "nbconvert_exporter": "python",
   "pygments_lexer": "ipython3",
   "version": "3.10.11"
  }
 },
 "nbformat": 4,
 "nbformat_minor": 5
}
