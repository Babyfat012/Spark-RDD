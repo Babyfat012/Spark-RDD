{
 "cells": [
  {
   "cell_type": "code",
   "execution_count": 1,
   "id": "e77768c0",
   "metadata": {},
   "outputs": [],
   "source": [
    "from pyspark.sql import SparkSession\n",
    "from pyspark.sql.functions import *\n",
    "spark = SparkSession. \\\n",
    "    builder.appName(\"DF basic\"). \\\n",
    "    config(\"spark.sql.warehouse.dir\", \"C:/data/warehouse\"). \\\n",
    "    enableHiveSupport(). \\\n",
    "    getOrCreate()"
   ]
  },
  {
   "cell_type": "code",
   "execution_count": 2,
   "id": "ee568bcd",
   "metadata": {},
   "outputs": [],
   "source": [
    "# Hàm này dùng để tạo dataframe trong spark\n",
    "orders_df = spark.read.csv(\"C:/data/orders_sh.csv\", header=True, inferSchema=True)"
   ]
  },
  {
   "cell_type": "code",
   "execution_count": 3,
   "id": "6d060d18",
   "metadata": {},
   "outputs": [
    {
     "name": "stdout",
     "output_type": "stream",
     "text": [
      "+--------+----------+-----------+---------------+\n",
      "|order_id|order_date|customer_id|   order_status|\n",
      "+--------+----------+-----------+---------------+\n",
      "|       1|   00:00.0|      11599|         CLOSED|\n",
      "|       2|   00:00.0|        256|PENDING_PAYMENT|\n",
      "|       3|   00:00.0|      12111|       COMPLETE|\n",
      "|       4|   00:00.0|       8827|         CLOSED|\n",
      "|       5|   00:00.0|      11318|       COMPLETE|\n",
      "+--------+----------+-----------+---------------+\n",
      "only showing top 5 rows\n",
      "\n"
     ]
    }
   ],
   "source": [
    "orders_df.show(5)"
   ]
  },
  {
   "cell_type": "code",
   "execution_count": 4,
   "id": "6359e0ca",
   "metadata": {},
   "outputs": [
    {
     "name": "stdout",
     "output_type": "stream",
     "text": [
      "root\n",
      " |-- order_id: integer (nullable = true)\n",
      " |-- order_date: string (nullable = true)\n",
      " |-- customer_id: integer (nullable = true)\n",
      " |-- order_status: string (nullable = true)\n",
      "\n"
     ]
    }
   ],
   "source": [
    "orders_df.printSchema()"
   ]
  },
  {
   "cell_type": "code",
   "execution_count": 3,
   "id": "7f937516",
   "metadata": {},
   "outputs": [],
   "source": [
    "orders_df.createOrReplaceTempView(\"orders_tmp\")"
   ]
  },
  {
   "cell_type": "code",
   "execution_count": 6,
   "id": "b07c980a",
   "metadata": {},
   "outputs": [
    {
     "name": "stdout",
     "output_type": "stream",
     "text": [
      "+--------+----------+-----------+---------------+\n",
      "|order_id|order_date|customer_id|   order_status|\n",
      "+--------+----------+-----------+---------------+\n",
      "|       1|   00:00.0|      11599|         CLOSED|\n",
      "|       2|   00:00.0|        256|PENDING_PAYMENT|\n",
      "|       3|   00:00.0|      12111|       COMPLETE|\n",
      "|       4|   00:00.0|       8827|         CLOSED|\n",
      "|       5|   00:00.0|      11318|       COMPLETE|\n",
      "+--------+----------+-----------+---------------+\n",
      "only showing top 5 rows\n",
      "\n"
     ]
    }
   ],
   "source": [
    "spark.sql(\"SELECT * FROM orders_tmp\").show(5)"
   ]
  },
  {
   "cell_type": "code",
   "execution_count": 7,
   "id": "fd2fa264",
   "metadata": {},
   "outputs": [
    {
     "name": "stdout",
     "output_type": "stream",
     "text": [
      "+---------------+-----+\n",
      "|   order_status|count|\n",
      "+---------------+-----+\n",
      "|PENDING_PAYMENT|15030|\n",
      "|       COMPLETE|22899|\n",
      "|        ON_HOLD| 3798|\n",
      "| PAYMENT_REVIEW|  729|\n",
      "|     PROCESSING| 8275|\n",
      "|         CLOSED| 7556|\n",
      "|SUSPECTED_FRAUD| 1558|\n",
      "|        PENDING| 7610|\n",
      "|       CANCELED| 1428|\n",
      "+---------------+-----+\n",
      "\n"
     ]
    }
   ],
   "source": [
    "orders_df.groupBy(\"order_status\").count().show()"
   ]
  },
  {
   "cell_type": "code",
   "execution_count": 8,
   "id": "7efb7acb",
   "metadata": {},
   "outputs": [
    {
     "name": "stdout",
     "output_type": "stream",
     "text": [
      "+---------------+--------+\n",
      "|   order_status|count(1)|\n",
      "+---------------+--------+\n",
      "|PENDING_PAYMENT|   15030|\n",
      "|       COMPLETE|   22899|\n",
      "|        ON_HOLD|    3798|\n",
      "| PAYMENT_REVIEW|     729|\n",
      "|     PROCESSING|    8275|\n",
      "|         CLOSED|    7556|\n",
      "|SUSPECTED_FRAUD|    1558|\n",
      "|        PENDING|    7610|\n",
      "|       CANCELED|    1428|\n",
      "+---------------+--------+\n",
      "\n"
     ]
    }
   ],
   "source": [
    "spark.sql(\"select order_status, count(*) from orders_tmp group by order_status\").show()"
   ]
  },
  {
   "cell_type": "code",
   "execution_count": 4,
   "id": "6e77a571",
   "metadata": {},
   "outputs": [],
   "source": [
    "top_10_df = orders_df.groupBy(\"customer_id\").count().sort(\"count\", ascending=False).limit(10)"
   ]
  },
  {
   "cell_type": "code",
   "execution_count": 5,
   "id": "9984b650",
   "metadata": {},
   "outputs": [
    {
     "name": "stdout",
     "output_type": "stream",
     "text": [
      "+-----------+-----+\n",
      "|customer_id|count|\n",
      "+-----------+-----+\n",
      "|       5897|   16|\n",
      "|      12431|   16|\n",
      "|        569|   16|\n",
      "|       6316|   16|\n",
      "|      12284|   15|\n",
      "|       5624|   15|\n",
      "|       4320|   15|\n",
      "|       5283|   15|\n",
      "|        221|   15|\n",
      "|       5654|   15|\n",
      "+-----------+-----+\n",
      "\n"
     ]
    }
   ],
   "source": [
    "top_10_df.show()"
   ]
  },
  {
   "cell_type": "code",
   "execution_count": 6,
   "id": "59eb69cf",
   "metadata": {},
   "outputs": [
    {
     "name": "stdout",
     "output_type": "stream",
     "text": [
      "+-----------+--------+\n",
      "|customer_id|count(1)|\n",
      "+-----------+--------+\n",
      "|       5897|      16|\n",
      "|      12431|      16|\n",
      "|        569|      16|\n",
      "|       6316|      16|\n",
      "|      12284|      15|\n",
      "|       5624|      15|\n",
      "|       4320|      15|\n",
      "|       5283|      15|\n",
      "|        221|      15|\n",
      "|       5654|      15|\n",
      "+-----------+--------+\n",
      "\n"
     ]
    }
   ],
   "source": [
    "spark.sql(\"SELECT customer_id, count(*) FROM orders_tmp GROUP BY customer_id ORDER BY count(*) DESC LIMIT 10\").show()"
   ]
  },
  {
   "cell_type": "code",
   "execution_count": 7,
   "id": "9acd0e80",
   "metadata": {},
   "outputs": [
    {
     "data": {
      "text/plain": [
       "12405"
      ]
     },
     "execution_count": 7,
     "metadata": {},
     "output_type": "execute_result"
    }
   ],
   "source": [
    "orders_df.select(\"customer_id\").distinct().count()"
   ]
  },
  {
   "cell_type": "code",
   "execution_count": 6,
   "id": "aeefe8eb",
   "metadata": {},
   "outputs": [
    {
     "name": "stdout",
     "output_type": "stream",
     "text": [
      "+-----------+\n",
      "|nb_customer|\n",
      "+-----------+\n",
      "|      12405|\n",
      "+-----------+\n",
      "\n"
     ]
    }
   ],
   "source": [
    "spark.sql(\"select count(distinct customer_id) as nb_customer from orders_tmp\").show()"
   ]
  },
  {
   "cell_type": "code",
   "execution_count": 8,
   "id": "2a80934b",
   "metadata": {},
   "outputs": [],
   "source": [
    "top1_customer = orders_df.where(\"order_status = 'CLOSED'\").groupBy(\"customer_id\").count().sort(\"count\", ascending=False).limit(1)"
   ]
  },
  {
   "cell_type": "code",
   "execution_count": 9,
   "id": "bb53f034",
   "metadata": {},
   "outputs": [
    {
     "name": "stdout",
     "output_type": "stream",
     "text": [
      "+-----------+-----+\n",
      "|customer_id|count|\n",
      "+-----------+-----+\n",
      "|       1833|    6|\n",
      "+-----------+-----+\n",
      "\n"
     ]
    }
   ],
   "source": [
    "top1_customer.show()"
   ]
  },
  {
   "cell_type": "code",
   "execution_count": 10,
   "id": "02c5c536",
   "metadata": {},
   "outputs": [
    {
     "name": "stdout",
     "output_type": "stream",
     "text": [
      "+-----------+--------+\n",
      "|customer_id|count(1)|\n",
      "+-----------+--------+\n",
      "|       1833|       6|\n",
      "+-----------+--------+\n",
      "\n"
     ]
    }
   ],
   "source": [
    "spark.sql(\"SELECT customer_id, count(*) from orders_tmp WHERE order_status = 'CLOSED' GROUP BY customer_id ORDER BY count(*) DESC LIMIT 1\").show()"
   ]
  }
 ],
 "metadata": {
  "kernelspec": {
   "display_name": "Python 3",
   "language": "python",
   "name": "python3"
  },
  "language_info": {
   "codemirror_mode": {
    "name": "ipython",
    "version": 3
   },
   "file_extension": ".py",
   "mimetype": "text/x-python",
   "name": "python",
   "nbconvert_exporter": "python",
   "pygments_lexer": "ipython3",
   "version": "3.10.11"
  }
 },
 "nbformat": 4,
 "nbformat_minor": 5
}
