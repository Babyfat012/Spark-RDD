{
 "cells": [
  {
   "cell_type": "code",
   "execution_count": 2,
   "id": "864a8bee",
   "metadata": {},
   "outputs": [],
   "source": [
    "from pyspark.sql import SparkSession\n",
    "\n",
    "spark = SparkSession. \\\n",
    "    builder. \\\n",
    "    config(\"spark.sql.warehouse.dir\", \"C:/data/warehouse\"). \\\n",
    "    config(\"spark.sql.catalogImplementation\", \"hive\"). \\\n",
    "    enableHiveSupport(). \\\n",
    "    getOrCreate()\n"
   ]
  },
  {
   "cell_type": "code",
   "execution_count": 3,
   "id": "819db3b4",
   "metadata": {},
   "outputs": [],
   "source": [
    "orders_df = spark.read.csv(\"C:/data/orders_sh.csv\", header=True, inferSchema=True)"
   ]
  },
  {
   "cell_type": "code",
   "execution_count": 4,
   "id": "ffc25a7e",
   "metadata": {},
   "outputs": [],
   "source": [
    "orders_df.createOrReplaceTempView(\"orders_tmp\")"
   ]
  },
  {
   "cell_type": "code",
   "execution_count": 5,
   "id": "3392b570",
   "metadata": {},
   "outputs": [
    {
     "name": "stdout",
     "output_type": "stream",
     "text": [
      "+--------+----------+-----------+---------------+\n",
      "|order_id|order_date|customer_id|   order_status|\n",
      "+--------+----------+-----------+---------------+\n",
      "|       1|   00:00.0|      11599|         CLOSED|\n",
      "|       2|   00:00.0|        256|PENDING_PAYMENT|\n",
      "|       3|   00:00.0|      12111|       COMPLETE|\n",
      "|       4|   00:00.0|       8827|         CLOSED|\n",
      "|       5|   00:00.0|      11318|       COMPLETE|\n",
      "+--------+----------+-----------+---------------+\n",
      "only showing top 5 rows\n",
      "\n"
     ]
    }
   ],
   "source": [
    "spark.sql(\"select * from orders_tmp\").show(5)"
   ]
  },
  {
   "cell_type": "code",
   "execution_count": 6,
   "id": "ad0845db",
   "metadata": {},
   "outputs": [
    {
     "data": {
      "text/plain": [
       "DataFrame[]"
      ]
     },
     "execution_count": 6,
     "metadata": {},
     "output_type": "execute_result"
    }
   ],
   "source": [
    "spark.sql(\"create database if not exists spark_sql_db\")"
   ]
  },
  {
   "cell_type": "code",
   "execution_count": 7,
   "id": "0bfb3ec6",
   "metadata": {},
   "outputs": [
    {
     "name": "stdout",
     "output_type": "stream",
     "text": [
      "+------------+\n",
      "|   namespace|\n",
      "+------------+\n",
      "|     default|\n",
      "|spark_sql_db|\n",
      "+------------+\n",
      "\n"
     ]
    }
   ],
   "source": [
    "spark.sql(\"show databases\").show()"
   ]
  },
  {
   "cell_type": "code",
   "execution_count": 8,
   "id": "b7bb341b",
   "metadata": {},
   "outputs": [
    {
     "data": {
      "text/plain": [
       "DataFrame[]"
      ]
     },
     "execution_count": 8,
     "metadata": {},
     "output_type": "execute_result"
    }
   ],
   "source": [
    "spark.sql(\"create table if not exists spark_sql_db.orders_managed as select * from orders_tmp\")"
   ]
  },
  {
   "cell_type": "code",
   "execution_count": 9,
   "id": "bfdbad49",
   "metadata": {},
   "outputs": [
    {
     "name": "stdout",
     "output_type": "stream",
     "text": [
      "+------------+--------------+-----------+\n",
      "|   namespace|     tableName|isTemporary|\n",
      "+------------+--------------+-----------+\n",
      "|spark_sql_db|orders_managed|      false|\n",
      "|            |    orders_tmp|       true|\n",
      "+------------+--------------+-----------+\n",
      "\n"
     ]
    }
   ],
   "source": [
    "spark.sql(\"show tables in spark_sql_db\").show()"
   ]
  },
  {
   "cell_type": "code",
   "execution_count": 10,
   "id": "40ac90e6",
   "metadata": {},
   "outputs": [
    {
     "name": "stdout",
     "output_type": "stream",
     "text": [
      "+--------+----------+-----------+---------------+\n",
      "|order_id|order_date|customer_id|   order_status|\n",
      "+--------+----------+-----------+---------------+\n",
      "|       1|   00:00.0|      11599|         CLOSED|\n",
      "|       2|   00:00.0|        256|PENDING_PAYMENT|\n",
      "|       3|   00:00.0|      12111|       COMPLETE|\n",
      "|       4|   00:00.0|       8827|         CLOSED|\n",
      "|       5|   00:00.0|      11318|       COMPLETE|\n",
      "+--------+----------+-----------+---------------+\n",
      "only showing top 5 rows\n",
      "\n"
     ]
    }
   ],
   "source": [
    "spark.sql(\"select * from spark_sql_db.orders_managed\").show(5)"
   ]
  },
  {
   "cell_type": "code",
   "execution_count": 11,
   "id": "d51847da",
   "metadata": {},
   "outputs": [
    {
     "name": "stdout",
     "output_type": "stream",
     "text": [
      "+----------------------------+----------------------------------------------------------+-------+\n",
      "|col_name                    |data_type                                                 |comment|\n",
      "+----------------------------+----------------------------------------------------------+-------+\n",
      "|order_id                    |int                                                       |NULL   |\n",
      "|order_date                  |string                                                    |NULL   |\n",
      "|customer_id                 |int                                                       |NULL   |\n",
      "|order_status                |string                                                    |NULL   |\n",
      "|                            |                                                          |       |\n",
      "|# Detailed Table Information|                                                          |       |\n",
      "|Catalog                     |spark_catalog                                             |       |\n",
      "|Database                    |spark_sql_db                                              |       |\n",
      "|Table                       |orders_managed                                            |       |\n",
      "|Owner                       |admin                                                     |       |\n",
      "|Created Time                |Mon Jul 28 14:56:46 ICT 2025                              |       |\n",
      "|Last Access                 |UNKNOWN                                                   |       |\n",
      "|Created By                  |Spark 3.5.0                                               |       |\n",
      "|Type                        |MANAGED                                                   |       |\n",
      "|Provider                    |hive                                                      |       |\n",
      "|Table Properties            |[transient_lastDdlTime=1753689407]                        |       |\n",
      "|Statistics                  |2035582 bytes                                             |       |\n",
      "|Location                    |file:/C:/data/warehouse/spark_sql_db.db/orders_managed    |       |\n",
      "|Serde Library               |org.apache.hadoop.hive.serde2.lazy.LazySimpleSerDe        |       |\n",
      "|InputFormat                 |org.apache.hadoop.mapred.TextInputFormat                  |       |\n",
      "|OutputFormat                |org.apache.hadoop.hive.ql.io.HiveIgnoreKeyTextOutputFormat|       |\n",
      "|Storage Properties          |[serialization.format=1]                                  |       |\n",
      "|Partition Provider          |Catalog                                                   |       |\n",
      "+----------------------------+----------------------------------------------------------+-------+\n",
      "\n"
     ]
    }
   ],
   "source": [
    "spark.sql(\"describe extended spark_sql_db.orders_managed\").show(30, False)"
   ]
  },
  {
   "cell_type": "code",
   "execution_count": 14,
   "id": "8ba1a372",
   "metadata": {},
   "outputs": [
    {
     "data": {
      "text/plain": [
       "DataFrame[]"
      ]
     },
     "execution_count": 14,
     "metadata": {},
     "output_type": "execute_result"
    }
   ],
   "source": [
    "spark.sql(\"create external table if not exists spark_sql_db.orders_external (order_id int, order_date string, order_customer_id int, order_status string) row format delimited fields terminated by ',' location 'file:///C:/data/warehouse/spark_sql_db.db/orders_managed'\")"
   ]
  },
  {
   "cell_type": "code",
   "execution_count": 18,
   "id": "d6a30236",
   "metadata": {},
   "outputs": [
    {
     "name": "stdout",
     "output_type": "stream",
     "text": [
      "+----------------------------+----------------------------------------------------------+-------+\n",
      "|col_name                    |data_type                                                 |comment|\n",
      "+----------------------------+----------------------------------------------------------+-------+\n",
      "|order_id                    |int                                                       |NULL   |\n",
      "|order_date                  |string                                                    |NULL   |\n",
      "|order_customer_id           |int                                                       |NULL   |\n",
      "|order_status                |string                                                    |NULL   |\n",
      "|                            |                                                          |       |\n",
      "|# Detailed Table Information|                                                          |       |\n",
      "|Catalog                     |spark_catalog                                             |       |\n",
      "|Database                    |spark_sql_db                                              |       |\n",
      "|Table                       |orders_external                                           |       |\n",
      "|Owner                       |admin                                                     |       |\n",
      "|Created Time                |Mon Jul 28 15:06:54 ICT 2025                              |       |\n",
      "|Last Access                 |UNKNOWN                                                   |       |\n",
      "|Created By                  |Spark 3.5.0                                               |       |\n",
      "|Type                        |EXTERNAL                                                  |       |\n",
      "|Provider                    |hive                                                      |       |\n",
      "|Table Properties            |[transient_lastDdlTime=1753690014]                        |       |\n",
      "|Statistics                  |2035582 bytes                                             |       |\n",
      "|Location                    |file:/C:/data/warehouse/spark_sql_db.db/orders_managed    |       |\n",
      "|Serde Library               |org.apache.hadoop.hive.serde2.lazy.LazySimpleSerDe        |       |\n",
      "|InputFormat                 |org.apache.hadoop.mapred.TextInputFormat                  |       |\n",
      "|OutputFormat                |org.apache.hadoop.hive.ql.io.HiveIgnoreKeyTextOutputFormat|       |\n",
      "|Storage Properties          |[serialization.format=,, field.delim=,]                   |       |\n",
      "|Partition Provider          |Catalog                                                   |       |\n",
      "+----------------------------+----------------------------------------------------------+-------+\n",
      "\n"
     ]
    }
   ],
   "source": [
    "spark.sql(\"describe extended spark_sql_db.orders_external\").show(30, False)"
   ]
  },
  {
   "cell_type": "code",
   "execution_count": 15,
   "id": "bc9333ca",
   "metadata": {},
   "outputs": [
    {
     "data": {
      "text/plain": [
       "DataFrame[]"
      ]
     },
     "execution_count": 15,
     "metadata": {},
     "output_type": "execute_result"
    }
   ],
   "source": [
    "spark.sql(\"\"\"create table spark_sql_db.orders_ext2\n",
    "          (order_id int, order_date string, order_customer_id int, order_status string)\n",
    "          using csv options (path 'C:/data/orders_sh.csv')\"\"\")"
   ]
  },
  {
   "cell_type": "code",
   "execution_count": 17,
   "id": "9ed10da9",
   "metadata": {},
   "outputs": [
    {
     "name": "stdout",
     "output_type": "stream",
     "text": [
      "+------------+---------------+-----------+\n",
      "|   namespace|      tableName|isTemporary|\n",
      "+------------+---------------+-----------+\n",
      "|spark_sql_db|    orders_ext2|      false|\n",
      "|spark_sql_db|orders_external|      false|\n",
      "|spark_sql_db| orders_managed|      false|\n",
      "|            |     orders_tmp|       true|\n",
      "+------------+---------------+-----------+\n",
      "\n"
     ]
    }
   ],
   "source": [
    "spark.sql(\"show tables in spark_sql_db\").show()"
   ]
  },
  {
   "cell_type": "code",
   "execution_count": 19,
   "id": "60e55629",
   "metadata": {},
   "outputs": [
    {
     "name": "stdout",
     "output_type": "stream",
     "text": [
      "+----------------------------+---------------------------------------------------------+-------+\n",
      "|col_name                    |data_type                                                |comment|\n",
      "+----------------------------+---------------------------------------------------------+-------+\n",
      "|order_id                    |int                                                      |NULL   |\n",
      "|order_date                  |string                                                   |NULL   |\n",
      "|order_customer_id           |int                                                      |NULL   |\n",
      "|order_status                |string                                                   |NULL   |\n",
      "|                            |                                                         |       |\n",
      "|# Detailed Table Information|                                                         |       |\n",
      "|Catalog                     |spark_catalog                                            |       |\n",
      "|Database                    |spark_sql_db                                             |       |\n",
      "|Table                       |orders_ext2                                              |       |\n",
      "|Owner                       |admin                                                    |       |\n",
      "|Created Time                |Mon Jul 28 15:09:51 ICT 2025                             |       |\n",
      "|Last Access                 |UNKNOWN                                                  |       |\n",
      "|Created By                  |Spark 3.5.0                                              |       |\n",
      "|Type                        |EXTERNAL                                                 |       |\n",
      "|Provider                    |csv                                                      |       |\n",
      "|Location                    |file:/C:/data/orders_sh.csv                              |       |\n",
      "|Serde Library               |org.apache.hadoop.hive.serde2.lazy.LazySimpleSerDe       |       |\n",
      "|InputFormat                 |org.apache.hadoop.mapred.SequenceFileInputFormat         |       |\n",
      "|OutputFormat                |org.apache.hadoop.hive.ql.io.HiveSequenceFileOutputFormat|       |\n",
      "+----------------------------+---------------------------------------------------------+-------+\n",
      "\n"
     ]
    }
   ],
   "source": [
    "spark.sql(\"describe extended spark_sql_db.orders_ext2\").show(30, False)"
   ]
  },
  {
   "cell_type": "code",
   "execution_count": 20,
   "id": "6248261f",
   "metadata": {},
   "outputs": [
    {
     "data": {
      "text/plain": [
       "DataFrame[]"
      ]
     },
     "execution_count": 20,
     "metadata": {},
     "output_type": "execute_result"
    }
   ],
   "source": [
    "spark.sql(\"drop table if exists spark_sql_db.orders_managed\")"
   ]
  },
  {
   "cell_type": "code",
   "execution_count": 22,
   "id": "4b7407bf",
   "metadata": {},
   "outputs": [
    {
     "name": "stdout",
     "output_type": "stream",
     "text": [
      "+--------+----------+-----------------+---------------+\n",
      "|order_id|order_date|order_customer_id|   order_status|\n",
      "+--------+----------+-----------------+---------------+\n",
      "|    NULL|order_date|             NULL|   order_status|\n",
      "|       1|   00:00.0|            11599|         CLOSED|\n",
      "|       2|   00:00.0|              256|PENDING_PAYMENT|\n",
      "|       3|   00:00.0|            12111|       COMPLETE|\n",
      "|       4|   00:00.0|             8827|         CLOSED|\n",
      "+--------+----------+-----------------+---------------+\n",
      "only showing top 5 rows\n",
      "\n"
     ]
    }
   ],
   "source": [
    "spark.sql(\"select * from spark_sql_db.orders_ext2\").show(5)"
   ]
  },
  {
   "cell_type": "code",
   "execution_count": null,
   "id": "51712345",
   "metadata": {},
   "outputs": [],
   "source": [
    "spark.sql(\"drop table if exists spark_sql_db.orders_ext2\")"
   ]
  }
 ],
 "metadata": {
  "kernelspec": {
   "display_name": "Python 3",
   "language": "python",
   "name": "python3"
  },
  "language_info": {
   "codemirror_mode": {
    "name": "ipython",
    "version": 3
   },
   "file_extension": ".py",
   "mimetype": "text/x-python",
   "name": "python",
   "nbconvert_exporter": "python",
   "pygments_lexer": "ipython3",
   "version": "3.10.11"
  }
 },
 "nbformat": 4,
 "nbformat_minor": 5
}
